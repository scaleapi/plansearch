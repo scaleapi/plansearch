{
 "cells": [
  {
   "cell_type": "code",
   "execution_count": null,
   "metadata": {},
   "outputs": [],
   "source": [
    "import matplotlib.pyplot as plt\n",
    "import numpy as np\n",
    "\n",
    "from math import comb\n",
    "from pathlib import Path\n",
    "import json\n",
    "import os\n",
    "\n",
    "from coderm.eval.metrics import get_pass_ks\n",
    "from coderm.utils import gunzip_json_read"
   ]
  },
  {
   "cell_type": "code",
   "execution_count": null,
   "metadata": {},
   "outputs": [],
   "source": [
    "log_directories = [\n",
    "    # os.path.join(\"p4o_results\", \"idea_filter_4omi200_temp0.8\"),\n",
    "    # os.path.join(\"p4o_results\", \"cobs_4omi_temp0.8\"),\n",
    "    os.path.join(\"p4o_results\", \"simple_filter_4omi1_temp0\")\n",
    "]\n",
    "\n",
    "data_list = [gunzip_json_read(log_dir) for log_dir in log_directories]\n",
    "\n",
    "def analyze_data(data):\n",
    "    num_codes = 0\n",
    "    num_empty = 0\n",
    "    num_timeout = 0\n",
    "    num_fst = 0\n",
    "    for item in data[\"items\"]:\n",
    "        for code in item[\"results\"]:\n",
    "            num_codes += 1\n",
    "            if code[\"passing\"] == True:\n",
    "                continue\n",
    "            if code[\"code\"] == \"\" or code[\"code\"] == \"# No successful generation\\n\":\n",
    "                num_empty += 1\n",
    "            elif \"errored with 'Timeout'\" in code[\"output\"]:\n",
    "                num_timeout += 1\n",
    "            else:\n",
    "                num_fst += 1\n",
    "    num_correct = num_codes - (num_empty + num_timeout + num_fst)\n",
    "    return num_correct, num_empty, num_timeout, num_fst, num_codes\n",
    "\n",
    "results = [analyze_data(data) for data in data_list]\n",
    "\n",
    "# Data for the pie chart\n",
    "labels = ['Correct', 'Empty', 'Timeout', 'Failed']\n",
    "colors = ['#4CAF50', '#FF9800', '#F44336', '#2196F3']\n",
    "explode = (0.1, 0, 0, 0)  # explode the 1st slice (Correct)\n",
    "\n",
    "# Plotting the pie charts\n",
    "fig, axes = plt.subplots(1, len(results), figsize=(16, 8))\n",
    "\n",
    "if len(results) == 1:\n",
    "    axes = [axes]  # Ensure axes is iterable\n",
    "\n",
    "for ax, (num_correct, num_empty, num_timeout, num_fst, num_codes), log_dir in zip(axes, results, log_directories):\n",
    "    sizes = [num_correct, num_empty, num_timeout, num_fst]\n",
    "    ax.pie(sizes, labels=labels, colors=colors, autopct='%1.1f%%', startangle=140)\n",
    "    ax.axis('equal')  # Equal aspect ratio ensures that pie is drawn as a circle.\n",
    "    ax.set_title(f'Distribution of Code Results ({os.path.basename(log_dir)})')\n",
    "\n",
    "plt.show()"
   ]
  }
 ],
 "metadata": {
  "kernelspec": {
   "display_name": "rlxf2",
   "language": "python",
   "name": "python3"
  },
  "language_info": {
   "codemirror_mode": {
    "name": "ipython",
    "version": 3
   },
   "file_extension": ".py",
   "mimetype": "text/x-python",
   "name": "python",
   "nbconvert_exporter": "python",
   "pygments_lexer": "ipython3",
   "version": "3.11.9"
  }
 },
 "nbformat": 4,
 "nbformat_minor": 2
}
