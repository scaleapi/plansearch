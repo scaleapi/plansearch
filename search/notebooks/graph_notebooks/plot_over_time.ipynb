{
 "cells": [
  {
   "cell_type": "code",
   "execution_count": null,
   "id": "c94d0f77-ea22-4514-b1f4-0e92b1e3d601",
   "metadata": {},
   "outputs": [],
   "source": [
    "import matplotlib.pyplot as plt\n",
    "import datasets\n",
    "import numpy as np\n",
    "\n",
    "from pathlib import Path\n",
    "import datetime\n",
    "from math import comb\n",
    "\n",
    "from coderm.utils import gunzip_json_read\n",
    "from coderm.eval.metrics import get_pass_ks"
   ]
  },
  {
   "cell_type": "code",
   "execution_count": null,
   "id": "b6895c8b-02c1-45b5-abee-3ce634d5c20f",
   "metadata": {},
   "outputs": [],
   "source": [
    "def parse_date(date):\n",
    "    date_format = '%Y-%m-%dT%H:%M:%S'\n",
    "    return datetime.datetime.strptime(date, date_format)"
   ]
  },
  {
   "cell_type": "code",
   "execution_count": null,
   "id": "5cc8864f-b5a7-43f6-bd1e-19c7d8d82e36",
   "metadata": {},
   "outputs": [],
   "source": [
    "def calcEstVar(n, k, c):\n",
    "    p = c / n\n",
    "    var = 0\n",
    "    for i in range(n+1):\n",
    "        var += comb(n-i, k) * p**i / comb(n, k) * (comb(n-k, i) * (1-p)**(n-i))\n",
    "    return var - (1-p)**(2*k)\n",
    "\n",
    "\n",
    "paths_to_results = [\n",
    "\n",
    "]\n",
    "from pathlib import Path\n",
    "for p in paths_to_results:\n",
    "    assert Path(p).exists(), f\"Path {p} doesn't exist!\"\n",
    "\n",
    "all_pass_ks = {}\n",
    "for r in (paths_to_results):\n",
    "    print(f\"Reading\", r)\n",
    "    items = gunzip_json_read(r)[\"items\"]\n",
    "    upper_k = len(items[0][\"results\"])\n",
    "    pass_ks = {}\n",
    "    for k in range(1, upper_k+1):\n",
    "        pass_ks[k] = np.mean(get_pass_ks(items, k))\n",
    "    all_pass_ks[r] = pass_ks\n"
   ]
  },
  {
   "cell_type": "code",
   "execution_count": null,
   "id": "2abe11d8",
   "metadata": {},
   "outputs": [],
   "source": [
    "gunzip_json_read"
   ]
  },
  {
   "cell_type": "code",
   "execution_count": null,
   "id": "d661b8b6",
   "metadata": {},
   "outputs": [],
   "source": [
    "paths"
   ]
  },
  {
   "cell_type": "code",
   "execution_count": null,
   "id": "4710abb9",
   "metadata": {},
   "outputs": [],
   "source": [
    "r = \"p4o_results/default_llama3170bi\"\n",
    "\n",
    "r = \"/mnt/efs/evanwang/model_weights/res/checkpoint-\"\n",
    "paths = [r + str(i) for i in range(21, 5)]\n",
    "# paths.remove(\"/mnt/efs/evanwang/model_weights/res/checkpoint-9\")\n",
    "paths = [\"/mnt/efs/evanwang/model_weights/res/checkpoint-0\", \"/mnt/efs/evanwang/model_weights/res/checkpoint-7\", \"/mnt/efs/evanwang/model_weights/res/checkpoint-12\"]\n",
    "\n",
    "from pathlib import Path\n",
    "for r in paths:\n",
    "    assert Path(r).exists(), f\"Path {r} doesn't exist!\"\n",
    "\n",
    "\n",
    "# gunzip_json_read(r)[\"items\"]\n",
    "\n",
    "lite_ds = datasets.load_dataset(\"codegenning/livecodebench_lite_v2\")"
   ]
  },
  {
   "cell_type": "code",
   "execution_count": null,
   "id": "6e065fe0",
   "metadata": {},
   "outputs": [],
   "source": [
    "dates = [parse_date(row[\"date\"]) for row in lite_ds[\"test\"]]"
   ]
  },
  {
   "cell_type": "code",
   "execution_count": null,
   "id": "3280d605",
   "metadata": {},
   "outputs": [],
   "source": [
    "data = {}\n",
    "for p in paths:\n",
    "    data[p] = gunzip_json_read(p)[\"items\"]\n",
    "\n",
    "datapoints = {}\n",
    "\n",
    "for key, val in data.items():\n",
    "    sub_data = []\n",
    "    for date, result in zip(dates, val):\n",
    "        for code_result in result[\"results\"]:\n",
    "            sub_data.append((date, code_result[\"passing\"]))\n",
    "    datapoints[key] = sub_data"
   ]
  },
  {
   "cell_type": "code",
   "execution_count": null,
   "id": "7763db3d",
   "metadata": {},
   "outputs": [],
   "source": [
    "import matplotlib.pyplot as plt\n",
    "import pandas as pd\n",
    "\n",
    "# Convert datapoints to a DataFrame\n",
    "fig, ax1 = plt.subplots(figsize=(10, 5))\n",
    "\n",
    "# Dictionary to store all monthly averages for each path\n",
    "all_monthly_avgs = {}\n",
    "\n",
    "# Define a common color for all lines except the average\n",
    "common_color = 'blue'\n",
    "\n",
    "for path, data in datapoints.items():\n",
    "    # Convert data to a DataFrame\n",
    "    df = pd.DataFrame(data, columns=[\"date\", \"passing\"])\n",
    "\n",
    "    # Set the date as the index\n",
    "    df.set_index(\"date\", inplace=True)\n",
    "\n",
    "    # Resample by month and calculate the mean\n",
    "    monthly_avg = df.resample(\"M\").mean()\n",
    "\n",
    "    # Store the monthly averages\n",
    "    all_monthly_avgs[path] = monthly_avg\n",
    "\n",
    "    # Plot the monthly average passing rate with transparency\n",
    "    ax1.plot(monthly_avg.index, monthly_avg[\"passing\"], marker='o', alpha=0.1, color=common_color, label=f'{path} Monthly Average')\n",
    "\n",
    "# Calculate the average of the y-values at each x-value\n",
    "combined_df = pd.concat(all_monthly_avgs.values(), axis=1)\n",
    "combined_df.columns = all_monthly_avgs.keys()\n",
    "average_monthly_avg = combined_df.mean(axis=1)\n",
    "\n",
    "# Plot the average of the y-values at each x-value\n",
    "ax1.plot(average_monthly_avg.index, average_monthly_avg, marker='x', color='red', label='Average Monthly Passing Rate', linewidth=3)\n",
    "\n",
    "ax1.set_xlabel(\"Month\")\n",
    "ax1.set_ylabel(\"Average Passing Rate\")\n",
    "# ax1.legend(loc='upper left')\n",
    "ax1.grid(True)\n",
    "\n",
    "plt.title(\"Average Passing Rate by Month for All Paths\")\n",
    "plt.show()"
   ]
  },
  {
   "cell_type": "code",
   "execution_count": null,
   "id": "15b8eaa5",
   "metadata": {},
   "outputs": [],
   "source": [
    "import matplotlib.pyplot as plt\n",
    "import pandas as pd\n",
    "import itertools\n",
    "\n",
    "# Convert datapoints to a DataFrame\n",
    "fig, ax1 = plt.subplots(figsize=(10, 5))\n",
    "\n",
    "# Dictionary to store all monthly averages for each path\n",
    "all_monthly_avgs = {}\n",
    "\n",
    "# Define a color cycle for distinct colors\n",
    "color_cycle = itertools.cycle(plt.cm.tab20.colors)\n",
    "\n",
    "for path, data in datapoints.items():\n",
    "    # Convert data to a DataFrame\n",
    "    df = pd.DataFrame(data, columns=[\"date\", \"passing\"])\n",
    "\n",
    "    # Set the date as the index\n",
    "    df.set_index(\"date\", inplace=True)\n",
    "\n",
    "    # Resample by month and calculate the mean\n",
    "    monthly_avg = df.resample(\"M\").mean()\n",
    "\n",
    "    # Store the monthly averages\n",
    "    all_monthly_avgs[path] = monthly_avg\n",
    "\n",
    "    # Plot the monthly average passing rate with transparency\n",
    "    ax1.plot(monthly_avg.index, monthly_avg[\"passing\"], marker='o', alpha=0.7, color=next(color_cycle), label=f'{path} Monthly Average')\n",
    "\n",
    "ax1.set_xlabel(\"Month\")\n",
    "ax1.set_ylabel(\"Average Passing Rate\")\n",
    "# ax1.legend(loc='upper left')\n",
    "ax1.grid(True)\n",
    "\n",
    "plt.title(\"Average Passing Rate by Month for All Paths\")\n",
    "plt.show()"
   ]
  },
  {
   "cell_type": "code",
   "execution_count": null,
   "id": "7f7e0e87",
   "metadata": {},
   "outputs": [],
   "source": []
  }
 ],
 "metadata": {
  "kernelspec": {
   "display_name": "Python 3 (ipykernel)",
   "language": "python",
   "name": "python3"
  },
  "language_info": {
   "codemirror_mode": {
    "name": "ipython",
    "version": 3
   },
   "file_extension": ".py",
   "mimetype": "text/x-python",
   "name": "python",
   "nbconvert_exporter": "python",
   "pygments_lexer": "ipython3",
   "version": "3.11.9"
  }
 },
 "nbformat": 4,
 "nbformat_minor": 5
}
