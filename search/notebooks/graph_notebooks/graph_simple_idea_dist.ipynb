{
 "cells": [
  {
   "cell_type": "code",
   "execution_count": null,
   "metadata": {},
   "outputs": [],
   "source": [
    "import matplotlib.pyplot as plt\n",
    "import numpy as np\n",
    "\n",
    "from pathlib import Path\n",
    "from coderm.eval.metrics import get_pass_ks\n",
    "from coderm.utils import gunzip_json_read\n",
    "\n",
    "from math import comb\n",
    "import os\n",
    "import json\n",
    "\n",
    "DATASET_NAME = \"codegenning/F_livecodebench_lite_v2\"\n",
    "LOG_DIRECTORY = os.path.join(\"../../logs\",\n",
    "                                \"simple_idea/codet0.8\"\n",
    "                             )\n",
    "\n",
    "json_path = os.path.join(LOG_DIRECTORY, \"results_per_code_group.json\")\n",
    "assert Path(json_path).exists()\n",
    "with open(json_path, \"r\") as f:\n",
    "    data = json.load(f)\n",
    "\n",
    "NUM_PROBS = 226\n",
    "data_grouped = [{\"results\": []} for _ in range(NUM_PROBS)]\n",
    "for i, idea_group in enumerate(data):\n",
    "    data_grouped[i % NUM_PROBS][\"results\"].extend(idea_group[\"results\"])"
   ]
  },
  {
   "cell_type": "code",
   "execution_count": null,
   "metadata": {},
   "outputs": [],
   "source": [
    "plt.figure(figsize=(10, 6))\n",
    "\n",
    "data_pass_ks = get_pass_ks(data, 1)\n",
    "data_grouped_pass_ks = get_pass_ks(data_grouped, 1)\n",
    "\n",
    "# Normalize the heights by the lengths of each\n",
    "weights_data = np.ones_like(data_pass_ks) / len(data_pass_ks)\n",
    "weights_data_grouped = np.ones_like(data_grouped_pass_ks) / len(data_grouped_pass_ks)\n",
    "\n",
    "plt.hist(data_pass_ks, bins=10, color='skyblue', edgecolor='black', alpha=0.5, label='P(Solve) per idea (over all problems)', weights=weights_data)\n",
    "plt.hist(data_grouped_pass_ks, bins=10, color='salmon', edgecolor='black', alpha=0.5, label='P(Solve) per problem (over all problems)', weights=weights_data_grouped)\n",
    "\n",
    "plt.title('Comparison of Pass@1 Scores Distribution', fontsize=16)\n",
    "plt.xlabel('Pass@1 Score', fontsize=14)\n",
    "plt.ylabel('Frequency', fontsize=14)\n",
    "plt.legend(loc='upper right')\n",
    "plt.grid(True, linestyle='--', alpha=0.7)\n",
    "plt.show()"
   ]
  }
 ],
 "metadata": {
  "kernelspec": {
   "display_name": "rlxf2",
   "language": "python",
   "name": "python3"
  },
  "language_info": {
   "codemirror_mode": {
    "name": "ipython",
    "version": 3
   },
   "file_extension": ".py",
   "mimetype": "text/x-python",
   "name": "python",
   "nbconvert_exporter": "python",
   "pygments_lexer": "ipython3",
   "version": "3.11.9"
  }
 },
 "nbformat": 4,
 "nbformat_minor": 2
}
