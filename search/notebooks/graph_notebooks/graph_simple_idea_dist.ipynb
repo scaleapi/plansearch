{
 "cells": [
  {
   "cell_type": "code",
   "execution_count": null,
   "metadata": {},
   "outputs": [],
   "source": [
    "import matplotlib.pyplot as plt\n",
    "import numpy as np\n",
    "\n",
    "from pathlib import Path\n",
    "from coderm.eval.metrics import get_pass_ks\n",
    "from coderm.utils import gunzip_json_read\n",
    "\n",
    "from math import comb\n",
    "import os\n",
    "import json\n",
    "\n",
    "DATASET_NAME = \"codegenning/F_livecodebench_lite_v2\"\n",
    "LOG_DIRECTORY = os.path.join(\"../../logs\",\n",
    "                                \"simple_idea/codet0.8\"\n",
    "                             )\n",
    "\n",
    "json_path = os.path.join(LOG_DIRECTORY, \"results_per_code_group.json\")\n",
    "assert Path(json_path).exists()\n",
    "with open(json_path, \"r\") as f:\n",
    "    data_per_idea = json.load(f)\n",
    "\n",
    "NUM_PROBS = 226\n",
    "data_per_problem = [{\"results\": []} for _ in range(NUM_PROBS)]\n",
    "for i, idea_group in enumerate(data_per_idea):\n",
    "    data_per_problem[i % NUM_PROBS][\"results\"].extend(idea_group[\"results\"])"
   ]
  },
  {
   "cell_type": "code",
   "execution_count": null,
   "metadata": {},
   "outputs": [],
   "source": [
    "mid_problems = []\n",
    "for i, data_for_problem in enumerate(data_per_problem):\n",
    "    num_passing = sum([p[\"passing\"] for p in data_for_problem[\"results\"]])\n",
    "    fraction = num_passing / len(data_for_problem[\"results\"])\n",
    "    if fraction <= 0.01 or fraction >= 0.99:\n",
    "        continue\n",
    "    mid_problems.append(i)\n",
    "\n",
    "good_ideas_idx = []\n",
    "for i in range(len(data_per_idea)):\n",
    "    if i % NUM_PROBS in mid_problems:\n",
    "        good_ideas_idx.append(i)\n",
    "\n",
    "filtered_pp = [data_per_problem[i] for i in mid_problems]\n",
    "filtered_pi = [data_per_idea[i] for i in good_ideas_idx]\n",
    "print(len(mid_problems))"
   ]
  },
  {
   "cell_type": "code",
   "execution_count": null,
   "metadata": {},
   "outputs": [],
   "source": [
    "# Set up the plot style for a professional look\n",
    "plt.style.use('seaborn-v0_8-whitegrid')\n",
    "plt.figure(figsize=(10, 6), dpi=300)\n",
    "\n",
    "# Calculate pass@1 scores\n",
    "data_per_idea_pass_ks = get_pass_ks(filtered_pi, 1)\n",
    "data_per_problem_pass_ks = get_pass_ks(filtered_pp, 1)\n",
    "\n",
    "# Normalize the heights by the lengths of each\n",
    "weights_data_per_idea = np.ones_like(data_per_idea_pass_ks) / len(data_per_idea_pass_ks)\n",
    "weights_data_per_problem = np.ones_like(data_per_problem_pass_ks) / len(data_per_problem_pass_ks)\n",
    "\n",
    "# Define common bins for both histograms\n",
    "bins = np.linspace(0, 1, 15)  # 20 bins from 0 to 1 for more granularity\n",
    "\n",
    "# Plot histograms\n",
    "plt.hist(data_per_problem_pass_ks, bins=bins, color='#FF9999', edgecolor='#CC0000', \n",
    "         alpha=0.7, label='Per Problem', weights=weights_data_per_problem)\n",
    "plt.hist(data_per_idea_pass_ks, bins=bins, color='#66B2FF', edgecolor='#004080', \n",
    "         alpha=0.7, label='Per Idea', weights=weights_data_per_idea)\n",
    "\n",
    "# Customize the plot\n",
    "plt.title('Distribution of Solve Rates Conditioned on Idea', fontsize=18, fontweight='bold')\n",
    "plt.xlabel('Solve Rate', fontsize=14)\n",
    "plt.ylabel('Frequency', fontsize=14)\n",
    "plt.legend(loc='upper right', fontsize=12)\n",
    "plt.tick_params(axis='both', which='major', labelsize=12)\n",
    "# Set x-axis limits to 0 and 1\n",
    "plt.xlim(-0.021, 1.021)\n",
    "# Add a text box with statistics\n",
    "stats_text = f\"N(problems) = {len(data_per_problem_pass_ks)}\\n\"\n",
    "stats_text += f\"N(ideas) = {len(data_per_idea_pass_ks)}\"\n",
    "plt.text(0.05, 0.95, stats_text, transform=plt.gca().transAxes, \n",
    "         verticalalignment='top', bbox=dict(boxstyle='round', facecolor='white', alpha=0.8))\n",
    "\n",
    "# Adjust layout and save the figure\n",
    "plt.tight_layout()\n",
    "plt.savefig('plots/idea_solve_rates_distribution.pdf', format='pdf', bbox_inches='tight')\n",
    "plt.show()"
   ]
  },
  {
   "cell_type": "code",
   "execution_count": null,
   "metadata": {},
   "outputs": [],
   "source": []
  }
 ],
 "metadata": {
  "kernelspec": {
   "display_name": "rlxf2",
   "language": "python",
   "name": "python3"
  },
  "language_info": {
   "codemirror_mode": {
    "name": "ipython",
    "version": 3
   },
   "file_extension": ".py",
   "mimetype": "text/x-python",
   "name": "python",
   "nbconvert_exporter": "python",
   "pygments_lexer": "ipython3",
   "version": "3.11.9"
  }
 },
 "nbformat": 4,
 "nbformat_minor": 2
}
