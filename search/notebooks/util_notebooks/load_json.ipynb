{
 "cells": [
  {
   "cell_type": "code",
   "execution_count": 38,
   "metadata": {},
   "outputs": [],
   "source": [
    "import json"
   ]
  },
  {
   "cell_type": "code",
   "execution_count": 39,
   "metadata": {},
   "outputs": [],
   "source": [
    "with open(\"cache.json\", \"r\") as f:\n",
    "    data = json.load(f)"
   ]
  },
  {
   "cell_type": "code",
   "execution_count": 3,
   "metadata": {},
   "outputs": [],
   "source": [
    "with open(\"cache2.json\", \"r\") as f:\n",
    "    data2 = json.load(f)"
   ]
  },
  {
   "cell_type": "code",
   "execution_count": 4,
   "metadata": {},
   "outputs": [],
   "source": [
    "data.update(data2)"
   ]
  },
  {
   "cell_type": "code",
   "execution_count": 10,
   "metadata": {},
   "outputs": [],
   "source": [
    "len(data)\n",
    "import tiktoken"
   ]
  },
  {
   "cell_type": "code",
   "execution_count": 42,
   "metadata": {},
   "outputs": [],
   "source": [
    "enc = tiktoken.encoding_for_model(\"gpt-4-turbo\")\n",
    "sumtok = 0\n",
    "prompts = []\n",
    "for el in list(data.items()):\n",
    "    prompts.append(el[0].split(\"MESSAGES:\")[1].split(\"|FREQUENCY_PENALTY\")[0])\n",
    "    sumtok += el[1][\"num_tokens\"]\n",
    "\n",
    "# sumtok += sum([len(enc_list) for enc_list in enc.encode_batch(prompts)])\n",
    "\n",
    "sumtok // 1e6 * 30"
   ]
  },
  {
   "cell_type": "code",
   "execution_count": 30,
   "metadata": {},
   "outputs": [],
   "source": [
    "lol = []\n",
    "for point in list(data):\n",
    "    lol.append(point.split(\"MESSAGES:\")[1].split(\"|FREQUENCY_PENALTY\")[0])"
   ]
  },
  {
   "cell_type": "code",
   "execution_count": 31,
   "metadata": {},
   "outputs": [
    {
     "data": {
      "text/plain": [
       "[\"ROLE:user|CONTENT:QUESTION:\\nYou are given a 0-indexed integer array nums and an integer k.\\nYou can perform the following operation on the array at most k times:\\n\\nChoose any index i from the array and increase or decrease nums[i] by 1.\\n\\nThe score of the final array is the frequency of the most frequent element in the array.\\nReturn the maximum score you can achieve.\\nThe frequency of an element is the number of occurences of that element in the array.\\n \\nExample 1:\\n\\nInput: nums = [1,2,6,4], k = 3\\nOutput: 3\\nExplanation: We can do the following operations on the array:\\n- Choose i = 0, and increase the value of nums[0] by 1. The resulting array is [2,2,6,4].\\n- Choose i = 3, and decrease the value of nums[3] by 1. The resulting array is [2,2,6,3].\\n- Choose i = 3, and decrease the value of nums[3] by 1. The resulting array is [2,2,6,2].\\nThe element 2 is the most frequent in the final array so our score is 3.\\nIt can be shown that we cannot achieve a better score.\\n\\nExample 2:\\n\\nInput: nums = [1,4,4,2,4], k = 0\\nOutput: 3\\nExplanation: We cannot apply any operations so our score will be the frequency of the most frequent element in the original array, which is 3.\\n\\n \\nConstraints:\\n\\n1 <= nums.length <= 10^5\\n1 <= nums[i] <= 10^9\\n0 <= k <= 10^14\\nPropose a clever and efficient high-level solution for this problem. Consider all edge cases and failure modes.\\n\\nSome common strategies include:\\nConstructive algorithms, Binary search, Depth-first search (DFS) and similar algorithms, Dynamic programming, Bitmasks, Brute force, Greedy algorithms, Graphs, Two pointers, Trees, Geometry, Graph matchings, Hashing, Probabilities, Data structures, Sortings, Games, Number theory, Combinatorics, Divide and conquer, Disjoint set union (DSU), Expression parsing\\n\\nWrite out your reasoning first, and then describe your high-level solution and explain why it is correct. DO NOT OUTPUT CODE.\\n\\nLet's think step by step to come up with a clever algorithm.\",\n",
       " \"ROLE:user|CONTENT:QUESTION:\\nYou are given a 0-indexed integer array nums and an integer k.\\nYou can perform the following operation on the array at most k times:\\n\\nChoose any index i from the array and increase or decrease nums[i] by 1.\\n\\nThe score of the final array is the frequency of the most frequent element in the array.\\nReturn the maximum score you can achieve.\\nThe frequency of an element is the number of occurences of that element in the array.\\n \\nExample 1:\\n\\nInput: nums = [1,2,6,4], k = 3\\nOutput: 3\\nExplanation: We can do the following operations on the array:\\n- Choose i = 0, and increase the value of nums[0] by 1. The resulting array is [2,2,6,4].\\n- Choose i = 3, and decrease the value of nums[3] by 1. The resulting array is [2,2,6,3].\\n- Choose i = 3, and decrease the value of nums[3] by 1. The resulting array is [2,2,6,2].\\nThe element 2 is the most frequent in the final array so our score is 3.\\nIt can be shown that we cannot achieve a better score.\\n\\nExample 2:\\n\\nInput: nums = [1,4,4,2,4], k = 0\\nOutput: 3\\nExplanation: We cannot apply any operations so our score will be the frequency of the most frequent element in the original array, which is 3.\\n\\n \\nConstraints:\\n\\n1 <= nums.length <= 10^5\\n1 <= nums[i] <= 10^9\\n0 <= k <= 10^14\\nPropose a clever and efficient high-level solution for this problem. Consider all edge cases and failure modes.\\n\\nSome common strategies include:\\nConstructive algorithms, Binary search, Depth-first search (DFS) and similar algorithms, Dynamic programming, Bitmasks, Brute force, Greedy algorithms, Graphs, Two pointers, Trees, Geometry, Graph matchings, Hashing, Probabilities, Data structures, Sortings, Games, Number theory, Combinatorics, Divide and conquer, Disjoint set union (DSU), Expression parsing\\n\\nWrite out your reasoning first, and then describe your high-level solution and explain why it is correct. DO NOT OUTPUT CODE.\\n\\nLet's think step by step to come up with a clever algorithm.\",\n",
       " \"ROLE:user|CONTENT:QUESTION:\\nYou are given a 0-indexed integer array nums and an integer k.\\nYou can perform the following operation on the array at most k times:\\n\\nChoose any index i from the array and increase or decrease nums[i] by 1.\\n\\nThe score of the final array is the frequency of the most frequent element in the array.\\nReturn the maximum score you can achieve.\\nThe frequency of an element is the number of occurences of that element in the array.\\n \\nExample 1:\\n\\nInput: nums = [1,2,6,4], k = 3\\nOutput: 3\\nExplanation: We can do the following operations on the array:\\n- Choose i = 0, and increase the value of nums[0] by 1. The resulting array is [2,2,6,4].\\n- Choose i = 3, and decrease the value of nums[3] by 1. The resulting array is [2,2,6,3].\\n- Choose i = 3, and decrease the value of nums[3] by 1. The resulting array is [2,2,6,2].\\nThe element 2 is the most frequent in the final array so our score is 3.\\nIt can be shown that we cannot achieve a better score.\\n\\nExample 2:\\n\\nInput: nums = [1,4,4,2,4], k = 0\\nOutput: 3\\nExplanation: We cannot apply any operations so our score will be the frequency of the most frequent element in the original array, which is 3.\\n\\n \\nConstraints:\\n\\n1 <= nums.length <= 10^5\\n1 <= nums[i] <= 10^9\\n0 <= k <= 10^14\\nPropose a clever and efficient high-level solution for this problem. Consider all edge cases and failure modes.\\n\\nSome common strategies include:\\nConstructive algorithms, Binary search, Depth-first search (DFS) and similar algorithms, Dynamic programming, Bitmasks, Brute force, Greedy algorithms, Graphs, Two pointers, Trees, Geometry, Graph matchings, Hashing, Probabilities, Data structures, Sortings, Games, Number theory, Combinatorics, Divide and conquer, Disjoint set union (DSU), Expression parsing\\n\\nWrite out your reasoning first, and then describe your high-level solution and explain why it is correct. DO NOT OUTPUT CODE.\\n\\nLet's think step by step to come up with a clever algorithm.\",\n",
       " \"ROLE:user|CONTENT:QUESTION:\\nYou are given a 0-indexed integer array nums and an integer k.\\nYou can perform the following operation on the array at most k times:\\n\\nChoose any index i from the array and increase or decrease nums[i] by 1.\\n\\nThe score of the final array is the frequency of the most frequent element in the array.\\nReturn the maximum score you can achieve.\\nThe frequency of an element is the number of occurences of that element in the array.\\n \\nExample 1:\\n\\nInput: nums = [1,2,6,4], k = 3\\nOutput: 3\\nExplanation: We can do the following operations on the array:\\n- Choose i = 0, and increase the value of nums[0] by 1. The resulting array is [2,2,6,4].\\n- Choose i = 3, and decrease the value of nums[3] by 1. The resulting array is [2,2,6,3].\\n- Choose i = 3, and decrease the value of nums[3] by 1. The resulting array is [2,2,6,2].\\nThe element 2 is the most frequent in the final array so our score is 3.\\nIt can be shown that we cannot achieve a better score.\\n\\nExample 2:\\n\\nInput: nums = [1,4,4,2,4], k = 0\\nOutput: 3\\nExplanation: We cannot apply any operations so our score will be the frequency of the most frequent element in the original array, which is 3.\\n\\n \\nConstraints:\\n\\n1 <= nums.length <= 10^5\\n1 <= nums[i] <= 10^9\\n0 <= k <= 10^14\\nPropose a clever and efficient high-level solution for this problem. Consider all edge cases and failure modes.\\n\\nSome common strategies include:\\nConstructive algorithms, Binary search, Depth-first search (DFS) and similar algorithms, Dynamic programming, Bitmasks, Brute force, Greedy algorithms, Graphs, Two pointers, Trees, Geometry, Graph matchings, Hashing, Probabilities, Data structures, Sortings, Games, Number theory, Combinatorics, Divide and conquer, Disjoint set union (DSU), Expression parsing\\n\\nWrite out your reasoning first, and then describe your high-level solution and explain why it is correct. DO NOT OUTPUT CODE.\\n\\nLet's think step by step to come up with a clever algorithm.\",\n",
       " \"ROLE:user|CONTENT:QUESTION:\\nYou are given a 0-indexed integer array nums and an integer k.\\nYou can perform the following operation on the array at most k times:\\n\\nChoose any index i from the array and increase or decrease nums[i] by 1.\\n\\nThe score of the final array is the frequency of the most frequent element in the array.\\nReturn the maximum score you can achieve.\\nThe frequency of an element is the number of occurences of that element in the array.\\n \\nExample 1:\\n\\nInput: nums = [1,2,6,4], k = 3\\nOutput: 3\\nExplanation: We can do the following operations on the array:\\n- Choose i = 0, and increase the value of nums[0] by 1. The resulting array is [2,2,6,4].\\n- Choose i = 3, and decrease the value of nums[3] by 1. The resulting array is [2,2,6,3].\\n- Choose i = 3, and decrease the value of nums[3] by 1. The resulting array is [2,2,6,2].\\nThe element 2 is the most frequent in the final array so our score is 3.\\nIt can be shown that we cannot achieve a better score.\\n\\nExample 2:\\n\\nInput: nums = [1,4,4,2,4], k = 0\\nOutput: 3\\nExplanation: We cannot apply any operations so our score will be the frequency of the most frequent element in the original array, which is 3.\\n\\n \\nConstraints:\\n\\n1 <= nums.length <= 10^5\\n1 <= nums[i] <= 10^9\\n0 <= k <= 10^14\\nPropose a clever and efficient high-level solution for this problem. Consider all edge cases and failure modes.\\n\\nSome common strategies include:\\nConstructive algorithms, Binary search, Depth-first search (DFS) and similar algorithms, Dynamic programming, Bitmasks, Brute force, Greedy algorithms, Graphs, Two pointers, Trees, Geometry, Graph matchings, Hashing, Probabilities, Data structures, Sortings, Games, Number theory, Combinatorics, Divide and conquer, Disjoint set union (DSU), Expression parsing\\n\\nWrite out your reasoning first, and then describe your high-level solution and explain why it is correct. DO NOT OUTPUT CODE.\\n\\nLet's think step by step to come up with a clever algorithm.\",\n",
       " \"ROLE:user|CONTENT:QUESTION:\\nYou are given a 0-indexed integer array nums and an integer k.\\nYou can perform the following operation on the array at most k times:\\n\\nChoose any index i from the array and increase or decrease nums[i] by 1.\\n\\nThe score of the final array is the frequency of the most frequent element in the array.\\nReturn the maximum score you can achieve.\\nThe frequency of an element is the number of occurences of that element in the array.\\n \\nExample 1:\\n\\nInput: nums = [1,2,6,4], k = 3\\nOutput: 3\\nExplanation: We can do the following operations on the array:\\n- Choose i = 0, and increase the value of nums[0] by 1. The resulting array is [2,2,6,4].\\n- Choose i = 3, and decrease the value of nums[3] by 1. The resulting array is [2,2,6,3].\\n- Choose i = 3, and decrease the value of nums[3] by 1. The resulting array is [2,2,6,2].\\nThe element 2 is the most frequent in the final array so our score is 3.\\nIt can be shown that we cannot achieve a better score.\\n\\nExample 2:\\n\\nInput: nums = [1,4,4,2,4], k = 0\\nOutput: 3\\nExplanation: We cannot apply any operations so our score will be the frequency of the most frequent element in the original array, which is 3.\\n\\n \\nConstraints:\\n\\n1 <= nums.length <= 10^5\\n1 <= nums[i] <= 10^9\\n0 <= k <= 10^14\\nPropose a clever and efficient high-level solution for this problem. Consider all edge cases and failure modes.\\n\\nSome common strategies include:\\nConstructive algorithms, Binary search, Depth-first search (DFS) and similar algorithms, Dynamic programming, Bitmasks, Brute force, Greedy algorithms, Graphs, Two pointers, Trees, Geometry, Graph matchings, Hashing, Probabilities, Data structures, Sortings, Games, Number theory, Combinatorics, Divide and conquer, Disjoint set union (DSU), Expression parsing\\n\\nWrite out your reasoning first, and then describe your high-level solution and explain why it is correct. DO NOT OUTPUT CODE.\\n\\nLet's think step by step to come up with a clever algorithm.\",\n",
       " \"ROLE:user|CONTENT:QUESTION:\\nYou are given a 0-indexed integer array nums and an integer k.\\nYou can perform the following operation on the array at most k times:\\n\\nChoose any index i from the array and increase or decrease nums[i] by 1.\\n\\nThe score of the final array is the frequency of the most frequent element in the array.\\nReturn the maximum score you can achieve.\\nThe frequency of an element is the number of occurences of that element in the array.\\n \\nExample 1:\\n\\nInput: nums = [1,2,6,4], k = 3\\nOutput: 3\\nExplanation: We can do the following operations on the array:\\n- Choose i = 0, and increase the value of nums[0] by 1. The resulting array is [2,2,6,4].\\n- Choose i = 3, and decrease the value of nums[3] by 1. The resulting array is [2,2,6,3].\\n- Choose i = 3, and decrease the value of nums[3] by 1. The resulting array is [2,2,6,2].\\nThe element 2 is the most frequent in the final array so our score is 3.\\nIt can be shown that we cannot achieve a better score.\\n\\nExample 2:\\n\\nInput: nums = [1,4,4,2,4], k = 0\\nOutput: 3\\nExplanation: We cannot apply any operations so our score will be the frequency of the most frequent element in the original array, which is 3.\\n\\n \\nConstraints:\\n\\n1 <= nums.length <= 10^5\\n1 <= nums[i] <= 10^9\\n0 <= k <= 10^14\\nPropose a clever and efficient high-level solution for this problem. Consider all edge cases and failure modes.\\n\\nSome common strategies include:\\nConstructive algorithms, Binary search, Depth-first search (DFS) and similar algorithms, Dynamic programming, Bitmasks, Brute force, Greedy algorithms, Graphs, Two pointers, Trees, Geometry, Graph matchings, Hashing, Probabilities, Data structures, Sortings, Games, Number theory, Combinatorics, Divide and conquer, Disjoint set union (DSU), Expression parsing\\n\\nWrite out your reasoning first, and then describe your high-level solution and explain why it is correct. DO NOT OUTPUT CODE.\\n\\nLet's think step by step to come up with a clever algorithm.\",\n",
       " \"ROLE:user|CONTENT:QUESTION:\\nYou are given a 0-indexed integer array nums and an integer k.\\nYou can perform the following operation on the array at most k times:\\n\\nChoose any index i from the array and increase or decrease nums[i] by 1.\\n\\nThe score of the final array is the frequency of the most frequent element in the array.\\nReturn the maximum score you can achieve.\\nThe frequency of an element is the number of occurences of that element in the array.\\n \\nExample 1:\\n\\nInput: nums = [1,2,6,4], k = 3\\nOutput: 3\\nExplanation: We can do the following operations on the array:\\n- Choose i = 0, and increase the value of nums[0] by 1. The resulting array is [2,2,6,4].\\n- Choose i = 3, and decrease the value of nums[3] by 1. The resulting array is [2,2,6,3].\\n- Choose i = 3, and decrease the value of nums[3] by 1. The resulting array is [2,2,6,2].\\nThe element 2 is the most frequent in the final array so our score is 3.\\nIt can be shown that we cannot achieve a better score.\\n\\nExample 2:\\n\\nInput: nums = [1,4,4,2,4], k = 0\\nOutput: 3\\nExplanation: We cannot apply any operations so our score will be the frequency of the most frequent element in the original array, which is 3.\\n\\n \\nConstraints:\\n\\n1 <= nums.length <= 10^5\\n1 <= nums[i] <= 10^9\\n0 <= k <= 10^14\\nPropose a clever and efficient high-level solution for this problem. Consider all edge cases and failure modes.\\n\\nSome common strategies include:\\nConstructive algorithms, Binary search, Depth-first search (DFS) and similar algorithms, Dynamic programming, Bitmasks, Brute force, Greedy algorithms, Graphs, Two pointers, Trees, Geometry, Graph matchings, Hashing, Probabilities, Data structures, Sortings, Games, Number theory, Combinatorics, Divide and conquer, Disjoint set union (DSU), Expression parsing\\n\\nWrite out your reasoning first, and then describe your high-level solution and explain why it is correct. DO NOT OUTPUT CODE.\\n\\nLet's think step by step to come up with a clever algorithm.\",\n",
       " \"ROLE:user|CONTENT:QUESTION:\\nYou are given a 0-indexed integer array nums and an integer k.\\nYou can perform the following operation on the array at most k times:\\n\\nChoose any index i from the array and increase or decrease nums[i] by 1.\\n\\nThe score of the final array is the frequency of the most frequent element in the array.\\nReturn the maximum score you can achieve.\\nThe frequency of an element is the number of occurences of that element in the array.\\n \\nExample 1:\\n\\nInput: nums = [1,2,6,4], k = 3\\nOutput: 3\\nExplanation: We can do the following operations on the array:\\n- Choose i = 0, and increase the value of nums[0] by 1. The resulting array is [2,2,6,4].\\n- Choose i = 3, and decrease the value of nums[3] by 1. The resulting array is [2,2,6,3].\\n- Choose i = 3, and decrease the value of nums[3] by 1. The resulting array is [2,2,6,2].\\nThe element 2 is the most frequent in the final array so our score is 3.\\nIt can be shown that we cannot achieve a better score.\\n\\nExample 2:\\n\\nInput: nums = [1,4,4,2,4], k = 0\\nOutput: 3\\nExplanation: We cannot apply any operations so our score will be the frequency of the most frequent element in the original array, which is 3.\\n\\n \\nConstraints:\\n\\n1 <= nums.length <= 10^5\\n1 <= nums[i] <= 10^9\\n0 <= k <= 10^14\\nPropose a clever and efficient high-level solution for this problem. Consider all edge cases and failure modes.\\n\\nSome common strategies include:\\nConstructive algorithms, Binary search, Depth-first search (DFS) and similar algorithms, Dynamic programming, Bitmasks, Brute force, Greedy algorithms, Graphs, Two pointers, Trees, Geometry, Graph matchings, Hashing, Probabilities, Data structures, Sortings, Games, Number theory, Combinatorics, Divide and conquer, Disjoint set union (DSU), Expression parsing\\n\\nWrite out your reasoning first, and then describe your high-level solution and explain why it is correct. DO NOT OUTPUT CODE.\\n\\nLet's think step by step to come up with a clever algorithm.\",\n",
       " \"ROLE:user|CONTENT:QUESTION:\\nYou are given a 0-indexed integer array nums and an integer k.\\nYou can perform the following operation on the array at most k times:\\n\\nChoose any index i from the array and increase or decrease nums[i] by 1.\\n\\nThe score of the final array is the frequency of the most frequent element in the array.\\nReturn the maximum score you can achieve.\\nThe frequency of an element is the number of occurences of that element in the array.\\n \\nExample 1:\\n\\nInput: nums = [1,2,6,4], k = 3\\nOutput: 3\\nExplanation: We can do the following operations on the array:\\n- Choose i = 0, and increase the value of nums[0] by 1. The resulting array is [2,2,6,4].\\n- Choose i = 3, and decrease the value of nums[3] by 1. The resulting array is [2,2,6,3].\\n- Choose i = 3, and decrease the value of nums[3] by 1. The resulting array is [2,2,6,2].\\nThe element 2 is the most frequent in the final array so our score is 3.\\nIt can be shown that we cannot achieve a better score.\\n\\nExample 2:\\n\\nInput: nums = [1,4,4,2,4], k = 0\\nOutput: 3\\nExplanation: We cannot apply any operations so our score will be the frequency of the most frequent element in the original array, which is 3.\\n\\n \\nConstraints:\\n\\n1 <= nums.length <= 10^5\\n1 <= nums[i] <= 10^9\\n0 <= k <= 10^14\\nPropose a clever and efficient high-level solution for this problem. Consider all edge cases and failure modes.\\n\\nSome common strategies include:\\nConstructive algorithms, Binary search, Depth-first search (DFS) and similar algorithms, Dynamic programming, Bitmasks, Brute force, Greedy algorithms, Graphs, Two pointers, Trees, Geometry, Graph matchings, Hashing, Probabilities, Data structures, Sortings, Games, Number theory, Combinatorics, Divide and conquer, Disjoint set union (DSU), Expression parsing\\n\\nWrite out your reasoning first, and then describe your high-level solution and explain why it is correct. DO NOT OUTPUT CODE.\\n\\nLet's think step by step to come up with a clever algorithm.\"]"
      ]
     },
     "execution_count": 31,
     "metadata": {},
     "output_type": "execute_result"
    }
   ],
   "source": [
    "lol[:10]"
   ]
  },
  {
   "cell_type": "code",
   "execution_count": 37,
   "metadata": {},
   "outputs": [
    {
     "name": "stdout",
     "output_type": "stream",
     "text": [
      "ROLE:user|CONTENT:QUESTION:\n",
      "You are given a 0-indexed integer array batteryPercentages having length n, denoting the battery percentages of n 0-indexed devices.\n",
      "Your task is to test each device i in order from 0 to n - 1, by performing the following test operations:\n",
      "\n",
      "If batteryPercentages[i] is greater than 0:\n",
      "\n",
      "\t\n",
      "Increment the count of tested devices.\n",
      "Decrease the battery percentage of all devices with indices j in the range [i + 1, n - 1] by 1, ensuring their battery percentage never goes below 0, i.e, batteryPercentages[j] = max(0, batteryPercentages[j] - 1).\n",
      "Move to the next device.\n",
      "\n",
      "\n",
      "Otherwise, move to the next device without performing any test.\n",
      "\n",
      "Return an integer denoting the number of devices that will be tested after performing the test operations in order.\n",
      " \n",
      "Example 1:\n",
      "\n",
      "Input: batteryPercentages = [1,1,2,1,3]\n",
      "Output: 3\n",
      "Explanation: Performing the test operations in order starting from device 0:\n",
      "At device 0, batteryPercentages[0] > 0, so there is now 1 tested device, and batteryPercentages becomes [1,0,1,0,2].\n",
      "At device 1, batteryPercentages[1] == 0, so we move to the next device without testing.\n",
      "At device 2, batteryPercentages[2] > 0, so there are now 2 tested devices, and batteryPercentages becomes [1,0,1,0,1].\n",
      "At device 3, batteryPercentages[3] == 0, so we move to the next device without testing.\n",
      "At device 4, batteryPercentages[4] > 0, so there are now 3 tested devices, and batteryPercentages stays the same.\n",
      "So, the answer is 3.\n",
      "\n",
      "Example 2:\n",
      "\n",
      "Input: batteryPercentages = [0,1,2]\n",
      "Output: 2\n",
      "Explanation: Performing the test operations in order starting from device 0:\n",
      "At device 0, batteryPercentages[0] == 0, so we move to the next device without testing.\n",
      "At device 1, batteryPercentages[1] > 0, so there is now 1 tested device, and batteryPercentages becomes [0,1,1].\n",
      "At device 2, batteryPercentages[2] > 0, so there are now 2 tested devices, and batteryPercentages stays the same.\n",
      "So, the answer is 2.\n",
      "\n",
      " \n",
      "Constraints:\n",
      "\n",
      "1 <= n == batteryPercentages.length <= 100 \n",
      "0 <= batteryPercentages[i] <= 100\n",
      "Use Standard Input format\n",
      "\n",
      "ANSWER in Python code:\n",
      "\n",
      "Implement the function `skip_device`, with signature: `skip_device() -> None`.\n",
      "Description: skip_device continues to the next device without any operations if the current device's battery percentage is zero.\n",
      "\n",
      "Wrap the code in triple backticks (``` [YOUR CODE HERE] ```).\n"
     ]
    }
   ],
   "source": [
    "len(enc.encode_batch(lol)[0])\n",
    "print(lol[1000])"
   ]
  },
  {
   "cell_type": "code",
   "execution_count": 41,
   "metadata": {},
   "outputs": [
    {
     "data": {
      "text/plain": [
       "2696166391"
      ]
     },
     "execution_count": 41,
     "metadata": {},
     "output_type": "execute_result"
    }
   ],
   "source": [
    "sum([len(enc_list) for enc_list in enc.encode_batch(prompts)])"
   ]
  },
  {
   "cell_type": "code",
   "execution_count": null,
   "metadata": {},
   "outputs": [],
   "source": [
    "prompts"
   ]
  },
  {
   "cell_type": "code",
   "execution_count": null,
   "metadata": {},
   "outputs": [],
   "source": [
    "2_696_166_391"
   ]
  }
 ],
 "metadata": {
  "kernelspec": {
   "display_name": "rlxf2",
   "language": "python",
   "name": "python3"
  },
  "language_info": {
   "codemirror_mode": {
    "name": "ipython",
    "version": 3
   },
   "file_extension": ".py",
   "mimetype": "text/x-python",
   "name": "python",
   "nbconvert_exporter": "python",
   "pygments_lexer": "ipython3",
   "version": "3.11.9"
  }
 },
 "nbformat": 4,
 "nbformat_minor": 2
}
