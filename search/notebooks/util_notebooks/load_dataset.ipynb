{
 "cells": [
  {
   "cell_type": "code",
   "execution_count": null,
   "metadata": {},
   "outputs": [],
   "source": [
    "from datasets import load_dataset, Dataset, DatasetDict"
   ]
  },
  {
   "cell_type": "code",
   "execution_count": null,
   "metadata": {},
   "outputs": [],
   "source": [
    "data[\"test\"][\"question\"]"
   ]
  },
  {
   "cell_type": "code",
   "execution_count": null,
   "metadata": {},
   "outputs": [],
   "source": [
    "len(data)"
   ]
  },
  {
   "cell_type": "code",
   "execution_count": null,
   "metadata": {},
   "outputs": [],
   "source": [
    "data = load_dataset(\"codegenning/usacobench_formatted\")\n",
    "def map_usaco_to_diff(difficulties: list[str]):\n",
    "    DIFF_TO_DIFF = {\"bronze\": \"easy\", \"silver\": \"medium\", \"gold\": \"hard\", \"platinum\": \"very_hard\"}\n",
    "    return [DIFF_TO_DIFF[difficulty] for difficulty in difficulties]\n",
    "\n",
    "new_dataset = Dataset.from_dict({\"question\": data[\"test\"][\"question\"], \n",
    "                                 \"starter_code\": [\"\"] * len(data[\"test\"]),\n",
    "                                 \"input_output\": data[\"test\"][\"input_output\"],\n",
    "                                 \"difficulty\": map_usaco_to_diff(data[\"test\"][\"difficulty\"]),\n",
    "                                 \"id\": data[\"test\"][\"id\"],\n",
    "                                 \"source\": [\"USACO\"] * len(data[\"test\"])})\n",
    "dd = DatasetDict({\"test\": new_dataset})\n",
    "dd.push_to_hub(\"codegenning/usacobench_F\")"
   ]
  },
  {
   "cell_type": "code",
   "execution_count": null,
   "metadata": {},
   "outputs": [],
   "source": [
    "data"
   ]
  },
  {
   "cell_type": "code",
   "execution_count": null,
   "metadata": {},
   "outputs": [],
   "source": [
    "import json\n",
    "bruh = json.loads(data[\"test\"][\"input_output\"][0])"
   ]
  },
  {
   "cell_type": "code",
   "execution_count": null,
   "metadata": {},
   "outputs": [],
   "source": [
    "bruh[\"inputs\"][:1]\n",
    "bruh[\"outputs\"][:1]"
   ]
  },
  {
   "cell_type": "code",
   "execution_count": null,
   "metadata": {},
   "outputs": [],
   "source": [
    "data = load_dataset(\"codegenning/taco_cleaned_exec_filtered\")\n",
    "\n",
    "def map_taco_to_diff(difficulties: list[str]):\n",
    "    DIFF_TO_DIFF = {\"EASY\": \"easy\", \"MEDIUM\": \"medium\", \"MEDIUM_HARD\": \"medium_hard\", \"HARD\": \"hard\", \"VERY_HARD\": \"very_hard\", \"UNKNOWN_DIFFICULTY\": \"unknown\"}\n",
    "    return [DIFF_TO_DIFF[difficulty] for difficulty in difficulties]\n",
    "\n",
    "new_dataset = Dataset.from_dict({\"question\": data[\"test\"][\"question\"], \n",
    "                                 \"starter_code\": [\"\"] * len(data[\"test\"]),\n",
    "                                 \"input_output\": data[\"test\"][\"input_output\"],\n",
    "                                 \"difficulty\": map_taco_to_diff(data[\"test\"][\"difficulty\"]),\n",
    "                                 \"id\": data[\"test\"][\"id\"]})\n",
    "dd = DatasetDict({\"test\": new_dataset})\n",
    "dd.push_to_hub(\"codegenning/usacobench_F\")"
   ]
  },
  {
   "cell_type": "code",
   "execution_count": null,
   "metadata": {},
   "outputs": [],
   "source": [
    "set(data[\"train\"][\"difficulty\"])"
   ]
  },
  {
   "cell_type": "code",
   "execution_count": null,
   "metadata": {},
   "outputs": [],
   "source": [
    "data = load_dataset(\"codegenning/taco_cleaned_exec_filtered\")"
   ]
  }
 ],
 "metadata": {
  "kernelspec": {
   "display_name": "rlxf2",
   "language": "python",
   "name": "python3"
  },
  "language_info": {
   "codemirror_mode": {
    "name": "ipython",
    "version": 3
   },
   "file_extension": ".py",
   "mimetype": "text/x-python",
   "name": "python",
   "nbconvert_exporter": "python",
   "pygments_lexer": "ipython3",
   "version": "3.11.9"
  }
 },
 "nbformat": 4,
 "nbformat_minor": 2
}
