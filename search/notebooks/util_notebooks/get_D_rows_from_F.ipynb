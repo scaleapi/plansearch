{
 "cells": [
  {
   "cell_type": "code",
   "execution_count": null,
   "metadata": {},
   "outputs": [],
   "source": [
    "from dataset_utils import parse_dataset\n",
    "from datasets import load_dataset, Dataset, DatasetDict"
   ]
  },
  {
   "cell_type": "code",
   "execution_count": null,
   "metadata": {},
   "outputs": [],
   "source": [
    "orig_problems = parse_dataset(\"codegenning/F_taco-rl_Llama-3.1-8B-I_sols\", \"train\")\n",
    "orig_prob_data = load_dataset(\"codegenning/F_taco-rl_Llama-3.1-8B-I_sols\")\n",
    "dpo_split = load_dataset(\"codegenning/D_taco-rl_Llama-3.1-8B-I_sols\")"
   ]
  },
  {
   "cell_type": "code",
   "execution_count": null,
   "metadata": {},
   "outputs": [],
   "source": [
    "def filt(s: str):\n",
    "    return s[10:-4]\n",
    "\n",
    "splits = [\"train\", \"test\"]\n",
    "new_dd = {}\n",
    "for split in splits:\n",
    "    all_idxs = []\n",
    "    for chose in dpo_split[split][\"chosen\"]:\n",
    "        query_str = filt(chose[2][\"content\"])\n",
    "        good_idxs = []\n",
    "        for i, prob in enumerate(orig_problems):\n",
    "            if query_str in prob.solutions:\n",
    "                good_idxs.append(i)\n",
    "        assert len(good_idxs) == 1\n",
    "        all_idxs.append(good_idxs[0])\n",
    "\n",
    "    new_dd[split] = orig_prob_data[\"train\"].select(all_idxs)\n",
    "\n",
    "new_dd = DatasetDict(new_dd)"
   ]
  },
  {
   "cell_type": "code",
   "execution_count": null,
   "metadata": {},
   "outputs": [],
   "source": [
    "new_dd.push_to_hub(\"codegenning/F_D_taco-rl_Llama-3.1-8B-I_sols\", private=True)"
   ]
  }
 ],
 "metadata": {
  "kernelspec": {
   "display_name": "rlxf2",
   "language": "python",
   "name": "python3"
  },
  "language_info": {
   "codemirror_mode": {
    "name": "ipython",
    "version": 3
   },
   "file_extension": ".py",
   "mimetype": "text/x-python",
   "name": "python",
   "nbconvert_exporter": "python",
   "pygments_lexer": "ipython3",
   "version": "3.11.9"
  }
 },
 "nbformat": 4,
 "nbformat_minor": 2
}
