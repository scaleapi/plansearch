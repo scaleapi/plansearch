{
 "cells": [
  {
   "cell_type": "code",
   "execution_count": null,
   "metadata": {},
   "outputs": [],
   "source": [
    "import json\n",
    "from search.dataset_utils import parse_dataset\n",
    "from datasets import load_dataset, Dataset, DatasetDict"
   ]
  },
  {
   "cell_type": "code",
   "execution_count": null,
   "metadata": {},
   "outputs": [],
   "source": [
    "data = load_dataset(\"codegenning/taco_with_gpt-4o-mini_gennedsols\")\n",
    "data_fail = load_dataset(\"codegenning/F_taco-rl_Llama-3.1-8B-I_sols\")\n",
    "problems_llama = parse_dataset(\"codegenning/F_taco-rl_Llama-3.1-8B-I_sols\", \"train\")\n",
    "problems_lcb = parse_dataset(\"codegenning/F_livecodebench_lite_v2\", \"test\")"
   ]
  },
  {
   "cell_type": "code",
   "execution_count": null,
   "metadata": {},
   "outputs": [],
   "source": [
    "dd = DatasetDict({\"train\": data_fail[\"train\"].map(lambda row, idx: {\"question\": row[\"question\"].split(\"Starter Code\")[0].strip()}, with_indices=True)})\n",
    "# dd.push_to_hub(\"codegenning/F_taco-rl-Llama-3.1-8B-I_sols_fix\", private=True)"
   ]
  },
  {
   "cell_type": "code",
   "execution_count": null,
   "metadata": {},
   "outputs": [],
   "source": [
    "question_to_problem = {}\n",
    "for i, row in enumerate(dd[\"train\"]):\n",
    "    assert row[\"question\"] not in question_to_problem\n",
    "    question_to_problem[row[\"question\"]] = i"
   ]
  },
  {
   "cell_type": "code",
   "execution_count": null,
   "metadata": {},
   "outputs": [],
   "source": [
    "gpt_to_llama_idx = []\n",
    "fill_llama_sols = [[] for _ in range(len(data_fail[\"train\"]))]\n",
    "for i, row in list(enumerate(data[\"train\"])):\n",
    "    if row[\"problem_str\"] not in question_to_problem:\n",
    "        continue\n",
    "    gpt_to_llama_idx.append(question_to_problem[row[\"problem_str\"]])\n",
    "    fill_llama_sols[question_to_problem[row[\"problem_str\"]]] = row[\"generated_solutions\"]"
   ]
  },
  {
   "cell_type": "code",
   "execution_count": null,
   "metadata": {},
   "outputs": [],
   "source": [
    "ndd = DatasetDict({\"train\": dd[\"train\"].map(lambda row, idx: {\"solutions\": fill_llama_sols[idx]}, with_indices=True)})"
   ]
  },
  {
   "cell_type": "code",
   "execution_count": null,
   "metadata": {},
   "outputs": [],
   "source": [
    "nndd = ndd[\"train\"].train_test_split(0.01)"
   ]
  },
  {
   "cell_type": "code",
   "execution_count": null,
   "metadata": {},
   "outputs": [],
   "source": [
    "nndd.push_to_hub(\"codegenning/F_taco-rl_gpt-4omi_ll318bi\", private=True)"
   ]
  }
 ],
 "metadata": {
  "kernelspec": {
   "display_name": "rlxf2",
   "language": "python",
   "name": "python3"
  },
  "language_info": {
   "codemirror_mode": {
    "name": "ipython",
    "version": 3
   },
   "file_extension": ".py",
   "mimetype": "text/x-python",
   "name": "python",
   "nbconvert_exporter": "python",
   "pygments_lexer": "ipython3",
   "version": "3.11.9"
  }
 },
 "nbformat": 4,
 "nbformat_minor": 2
}
