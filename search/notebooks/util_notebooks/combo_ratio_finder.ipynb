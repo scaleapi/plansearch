{
 "cells": [
  {
   "cell_type": "code",
   "execution_count": null,
   "metadata": {},
   "outputs": [],
   "source": [
    "import json\n",
    "import os\n",
    "import datasets"
   ]
  },
  {
   "cell_type": "code",
   "execution_count": null,
   "metadata": {},
   "outputs": [],
   "source": [
    "LOG_DIRECTORY = os.path.join(\"logs\",\n",
    "                                \"combo_observation_07-25T08:24:33\"\n",
    "                             )\n",
    "ORIG_NUM_PROBLEMS = 226\n",
    "\n",
    "def get_observation_files(log_directory, iter_num: int):\n",
    "    return [f for f in os.listdir(log_directory) if f.startswith(f\"observation_{iter_num}\")]\n",
    "def get_code_files(log_directory):\n",
    "    return [f for f in os.listdir(log_directory) if f.startswith(\"codes\")]\n",
    "\n",
    "first_observation_files = get_observation_files(LOG_DIRECTORY, 0)\n",
    "curr_iter = 0\n",
    "while len(get_observation_files(LOG_DIRECTORY, curr_iter)):\n",
    "    final_observation_files = get_observation_files(LOG_DIRECTORY, curr_iter)\n",
    "    curr_iter += 1\n",
    "\n",
    "code_files = get_code_files(LOG_DIRECTORY)\n",
    "\n",
    "num_problems = 0\n",
    "\n",
    "for file in first_observation_files:\n",
    "    with open(os.path.join(LOG_DIRECTORY, file), \"r\") as f:\n",
    "        obs = json.load(f)\n",
    "    num_problems += len(obs)\n",
    "\n",
    "num_codes = 0\n",
    "for file in code_files:\n",
    "    with open(os.path.join(LOG_DIRECTORY, file), \"r\") as f:\n",
    "        obs = json.load(f)\n",
    "    num_codes += len(obs)\n",
    "\n",
    "print(f\"RATIO: {num_codes / num_problems}\")\n",
    "\n",
    "assert num_problems % ORIG_NUM_PROBLEMS == 0\n",
    "n_completions = num_problems // ORIG_NUM_PROBLEMS"
   ]
  },
  {
   "cell_type": "code",
   "execution_count": null,
   "metadata": {},
   "outputs": [],
   "source": [
    "codes = []\n",
    "for file in code_files:\n",
    "    with open(os.path.join(LOG_DIRECTORY, file), \"r\") as f:\n",
    "        code_results = json.load(f)\n",
    "    for code_result in code_results:\n",
    "        codes.append((code_result[\"problem_str\"], code_result[\"parsed_codes\"]))\n",
    "\n",
    "lite_ds = datasets.load_dataset(\"codegenning/livecodebench_lite_v2\")"
   ]
  },
  {
   "cell_type": "code",
   "execution_count": null,
   "metadata": {},
   "outputs": [],
   "source": [
    "from base_classes import Problem, Test\n",
    "\n",
    "\n",
    "problems = []\n",
    "problem_hashes = {}\n",
    "for row in lite_ds[\"test\"]:\n",
    "    problems.append(Problem.from_coderm_item(row[\"question\"], row[\"starter_code\"], json.loads(row[\"public_input_output\"]), json.loads(row[\"input_output\"])))\n",
    "    problem_hashes[row[\"question\"]] = {\"problem\": problems[-1], \"codes\": []}"
   ]
  },
  {
   "cell_type": "code",
   "execution_count": null,
   "metadata": {},
   "outputs": [],
   "source": [
    "for code in codes:\n",
    "    assert code[0] in problem_hashes\n",
    "    problem_hashes[code[0]][\"codes\"].append(code[1])"
   ]
  },
  {
   "cell_type": "code",
   "execution_count": null,
   "metadata": {},
   "outputs": [],
   "source": [
    "len(problem_hashes)"
   ]
  },
  {
   "cell_type": "code",
   "execution_count": null,
   "metadata": {},
   "outputs": [],
   "source": [
    "problem_dict[\"problem\"]"
   ]
  },
  {
   "cell_type": "code",
   "execution_count": null,
   "metadata": {},
   "outputs": [],
   "source": [
    "lens = []\n",
    "codes_to_run = []\n",
    "tests_to_run = []\n",
    "\n",
    "for problem_dict in problem_hashes.values():\n",
    "    codes_to_run.extend(problem_dict[\"codes\"])\n",
    "    tests_to_run.extend([problem_dict[\"problem\"].private_tests] * len(problem_dict[\"codes\"]))\n",
    "\n",
    "timeouts = [90] * len(tests_to_run)"
   ]
  },
  {
   "cell_type": "code",
   "execution_count": null,
   "metadata": {},
   "outputs": [],
   "source": [
    "from exec_utils import run_tests_per_code\n",
    "results = run_tests_per_code(codes_to_run[:30], tests_to_run[:30], timeouts[:30])"
   ]
  },
  {
   "cell_type": "code",
   "execution_count": null,
   "metadata": {},
   "outputs": [],
   "source": [
    "write_data = [{\"results\": {\"passing\": status}} for status, _ in results]"
   ]
  },
  {
   "cell_type": "code",
   "execution_count": null,
   "metadata": {},
   "outputs": [],
   "source": [
    "with open(os.path.join(LOG_DIRECTORY, \"code_exec_results.json\"), \"w\") as f:\n",
    "    json.dump(write_data, f)"
   ]
  }
 ],
 "metadata": {
  "kernelspec": {
   "display_name": "rlxf2",
   "language": "python",
   "name": "python3"
  },
  "language_info": {
   "codemirror_mode": {
    "name": "ipython",
    "version": 3
   },
   "file_extension": ".py",
   "mimetype": "text/x-python",
   "name": "python",
   "nbconvert_exporter": "python",
   "pygments_lexer": "ipython3",
   "version": "3.11.9"
  }
 },
 "nbformat": 4,
 "nbformat_minor": 2
}
