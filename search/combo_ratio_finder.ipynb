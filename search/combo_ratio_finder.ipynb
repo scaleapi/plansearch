{
 "cells": [
  {
   "cell_type": "code",
   "execution_count": null,
   "metadata": {},
   "outputs": [],
   "source": [
    "import json\n",
    "import os"
   ]
  },
  {
   "cell_type": "code",
   "execution_count": null,
   "metadata": {},
   "outputs": [],
   "source": [
    "LOG_DIRECTORY = os.path.join(\"logs\",\n",
    "                                \"combo_observation_07-25T08:24:33\"\n",
    "                             )\n",
    "\n",
    "def get_observation_files(log_directory, iter_num: int):\n",
    "    return [f for f in os.listdir(log_directory) if f.startswith(f\"observation_{iter_num}\")]\n",
    "def get_code_files(log_directory):\n",
    "    return [f for f in os.listdir(log_directory) if f.startswith(\"codes\")]\n",
    "\n",
    "first_observation_files = get_observation_files(LOG_DIRECTORY, 0)\n",
    "curr_iter = 0\n",
    "while len(get_observation_files(LOG_DIRECTORY, curr_iter)):\n",
    "    final_observation_files = get_observation_files(LOG_DIRECTORY, curr_iter)\n",
    "    curr_iter += 1\n",
    "\n",
    "code_files = get_code_files(LOG_DIRECTORY)\n",
    "\n",
    "num_problems = 0\n",
    "\n",
    "for file in first_observation_files:\n",
    "    with open(os.path.join(LOG_DIRECTORY, file), \"r\") as f:\n",
    "        obs = json.load(f)\n",
    "    num_problems += len(obs)\n",
    "\n",
    "num_codes = 0\n",
    "for file in code_files:\n",
    "    with open(os.path.join(LOG_DIRECTORY, file), \"r\") as f:\n",
    "        obs = json.load(f)\n",
    "    num_codes += len(obs)\n",
    "\n",
    "print(f\"RATIO: {num_codes / num_problems}\")"
   ]
  },
  {
   "cell_type": "code",
   "execution_count": null,
   "metadata": {},
   "outputs": [],
   "source": [
    "for file in code_files:\n",
    "    with open(os.path.join(LOG_DIRECTORY, file), \"r\") as f:\n",
    "        obs = json.load(f)\n",
    "    display(obs)\n",
    "    break\n",
    "\n",
    "import datasets\n",
    "\n",
    "lite_ds = datasets.load_dataset(\"codegenning/livecodebench_lite_v2\")\n",
    "\n"
   ]
  },
  {
   "cell_type": "code",
   "execution_count": null,
   "metadata": {},
   "outputs": [],
   "source": []
  }
 ],
 "metadata": {
  "kernelspec": {
   "display_name": "rlxf2",
   "language": "python",
   "name": "python3